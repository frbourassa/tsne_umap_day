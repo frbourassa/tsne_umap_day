{
 "cells": [
  {
   "cell_type": "markdown",
   "metadata": {},
   "source": [
    "# Formatting data into a DataFrame\n",
    "The desired format: each column is an observable quantity, each row is a different sample point. \n",
    "\n",
    "This notebook gives an example using fictitious data about particles of gas in a box. Observables are positions and speeds, sample points are different particles. \n",
    "\n",
    "Modify the notebook to import your own data instead. \n",
    "\n",
    "Available functions: \n",
    "- df_from_ndarray: to transform an array with more than 2 dimensions into a 2d, MultiIndexed DataFrame\n",
    "- df_from_blocks: to concatenate 2d arrays containing sample points from different conditions\n",
    "- regroup_levels: to add a level to the MultiIndex of a DataFrame, in order to regroup the values in another level (for instance, regroup positions together under the label \"Position\", and velocity components together under the label \"Velocity\")\n",
    "- load_object, save_object: load or save pickle files"
   ]
  },
  {
   "cell_type": "code",
   "execution_count": 1,
   "metadata": {},
   "outputs": [],
   "source": [
    "# Initial module imports\n",
    "import numpy as np\n",
    "import scipy as sp\n",
    "import pandas as pd\n",
    "from format_tools import load_object, save_object, df_from_ndarray, df_from_blocks, regroup_levels\n",
    "import os"
   ]
  },
  {
   "cell_type": "markdown",
   "metadata": {},
   "source": [
    "## Importing your data\n",
    "For the sake of the example, we import some fictitious data about gas particles. \n",
    "\n",
    "Instead, import your own data it its original format here. "
   ]
  },
  {
   "cell_type": "markdown",
   "metadata": {},
   "source": [
    "### For the df_from_blocks method\n",
    "Choose this subsection **OR** the one below (from an ndarray). "
   ]
  },
  {
   "cell_type": "code",
   "execution_count": 2,
   "metadata": {},
   "outputs": [],
   "source": [
    "# Creating and saving the fictitious data: remove this part\n",
    "folder = \"data/blocks/\"\n",
    "# Test the input by block function\n",
    "blocks = [np.random.rand(5, 6) for i in range(3)]  # 3 blocks\n",
    "\n",
    "for i in range(len(blocks)):\n",
    "    save_object(blocks[i], folder + \"gas_example_block_{}.pkl\".format(i))\n"
   ]
  },
  {
   "cell_type": "code",
   "execution_count": 3,
   "metadata": {},
   "outputs": [
    {
     "name": "stdout",
     "output_type": "stream",
     "text": [
      "Loaded blocks:\n",
      "[[0.71316279 0.81414003 0.77321754 0.54052901 0.89496055 0.45597601]\n",
      " [0.44306042 0.81198928 0.94780037 0.48387119 0.55149527 0.33600366]\n",
      " [0.78094743 0.13559562 0.90051875 0.44166881 0.44237303 0.56283908]\n",
      " [0.04940954 0.52147117 0.27074943 0.60764999 0.31374207 0.62179219]\n",
      " [0.97107481 0.75066481 0.48028947 0.80489248 0.11517844 0.42233976]]\n",
      "[[0.02233586 0.77536212 0.50644677 0.52973631 0.75171172 0.10941163]\n",
      " [0.8774583  0.65599972 0.26391383 0.96055786 0.15751302 0.46005792]\n",
      " [0.73511335 0.17131204 0.69563038 0.31297605 0.11632371 0.71790573]\n",
      " [0.70201956 0.95538669 0.05637364 0.77619421 0.10768882 0.18512795]\n",
      " [0.49291985 0.46393642 0.27202198 0.8436711  0.64284533 0.71313817]]\n",
      "[[0.7580745  0.85981574 0.03488712 0.22022355 0.7619963  0.46614814]\n",
      " [0.69255638 0.51276624 0.49519083 0.00930358 0.77645245 0.33297056]\n",
      " [0.1023417  0.01506129 0.46167481 0.53610569 0.89790049 0.51603358]\n",
      " [0.35836954 0.93827666 0.43511498 0.23378003 0.62597862 0.94811184]\n",
      " [0.69259641 0.23718699 0.38233516 0.37313278 0.40826936 0.67541467]]\n"
     ]
    }
   ],
   "source": [
    "# Import your files here\n",
    "\n",
    "# Example: each block corresponds to a different (temperature, pressure) tuple. \n",
    "folder = \"data/blocks/\"\n",
    "files = os.listdir(folder)\n",
    "files = sorted([folder + fi for fi in files if fi.startswith(\"gas_example\")])\n",
    "list_of_blocks = []\n",
    "print(\"Loaded blocks:\")\n",
    "for f in files:\n",
    "    list_of_blocks.append(load_object(f))\n",
    "    print(list_of_blocks[-1])"
   ]
  },
  {
   "cell_type": "markdown",
   "metadata": {},
   "source": [
    "### For the df_from_ndarray method"
   ]
  },
  {
   "cell_type": "code",
   "execution_count": 4,
   "metadata": {},
   "outputs": [
    {
     "name": "stdout",
     "output_type": "stream",
     "text": [
      "[[[  0   1   2   3   4   5]\n",
      "  [  6   7   8   9  10  11]\n",
      "  [ 12  13  14  15  16  17]\n",
      "  [ 18  19  20  21  22  23]\n",
      "  [ 24  25  26  27  28  29]]\n",
      "\n",
      " [[ 30  31  32  33  34  35]\n",
      "  [ 36  37  38  39  40  41]\n",
      "  [ 42  43  44  45  46  47]\n",
      "  [ 48  49  50  51  52  53]\n",
      "  [ 54  55  56  57  58  59]]\n",
      "\n",
      " [[ 60  61  62  63  64  65]\n",
      "  [ 66  67  68  69  70  71]\n",
      "  [ 72  73  74  75  76  77]\n",
      "  [ 78  79  80  81  82  83]\n",
      "  [ 84  85  86  87  88  89]]\n",
      "\n",
      " [[ 90  91  92  93  94  95]\n",
      "  [ 96  97  98  99 100 101]\n",
      "  [102 103 104 105 106 107]\n",
      "  [108 109 110 111 112 113]\n",
      "  [114 115 116 117 118 119]]]\n"
     ]
    }
   ],
   "source": [
    "# Creating and saving the fictitious data: remove this part\n",
    "folder = \"data/ndarrays/\"\n",
    "arr = np.arange(4*5*6).reshape(4, 5, 6)\n",
    "save_object(arr, folder + \"gas_example_ndarray.pkl\")\n",
    "print(arr)"
   ]
  },
  {
   "cell_type": "code",
   "execution_count": 5,
   "metadata": {},
   "outputs": [
    {
     "name": "stdout",
     "output_type": "stream",
     "text": [
      "Loaded ndarray: \n",
      "[[[  0   1   2   3   4   5]\n",
      "  [  6   7   8   9  10  11]\n",
      "  [ 12  13  14  15  16  17]\n",
      "  [ 18  19  20  21  22  23]\n",
      "  [ 24  25  26  27  28  29]]\n",
      "\n",
      " [[ 30  31  32  33  34  35]\n",
      "  [ 36  37  38  39  40  41]\n",
      "  [ 42  43  44  45  46  47]\n",
      "  [ 48  49  50  51  52  53]\n",
      "  [ 54  55  56  57  58  59]]\n",
      "\n",
      " [[ 60  61  62  63  64  65]\n",
      "  [ 66  67  68  69  70  71]\n",
      "  [ 72  73  74  75  76  77]\n",
      "  [ 78  79  80  81  82  83]\n",
      "  [ 84  85  86  87  88  89]]\n",
      "\n",
      " [[ 90  91  92  93  94  95]\n",
      "  [ 96  97  98  99 100 101]\n",
      "  [102 103 104 105 106 107]\n",
      "  [108 109 110 111 112 113]\n",
      "  [114 115 116 117 118 119]]]\n"
     ]
    }
   ],
   "source": [
    "# Import your files here\n",
    "\n",
    "# Example: each block will correspond to a different (temperature, pressure) tuple. \n",
    "folder = \"data/ndarrays/\"\n",
    "files = [fi for fi in os.listdir(folder) if fi.startswith(\"gas_example\")]\n",
    "ndarr = load_object(folder + files[0])\n",
    "print(\"Loaded ndarray: \")\n",
    "print(ndarr)"
   ]
  },
  {
   "cell_type": "markdown",
   "metadata": {},
   "source": [
    "## Building the DataFrame\n",
    "Now that blocks or ndarrays have been imported, it is time to combine or reshape them"
   ]
  },
  {
   "cell_type": "markdown",
   "metadata": {},
   "source": [
    "### With the df_from_blocks method"
   ]
  },
  {
   "cell_type": "code",
   "execution_count": 6,
   "metadata": {},
   "outputs": [
    {
     "name": "stdout",
     "output_type": "stream",
     "text": [
      "(('10 C', '1 atm'), ('20 C', '2 atm'), ('30 C', '3 atm'))\n",
      "DataFrame created witht the df_from_blocks function: \n",
      "                                   vx        vy        vz         x         y  \\\n",
      "Temperature Pressure Sample                                                     \n",
      "10 C        1 atm    0       0.713163  0.814140  0.773218  0.540529  0.894961   \n",
      "                     1       0.443060  0.811989  0.947800  0.483871  0.551495   \n",
      "                     2       0.780947  0.135596  0.900519  0.441669  0.442373   \n",
      "                     3       0.049410  0.521471  0.270749  0.607650  0.313742   \n",
      "                     4       0.971075  0.750665  0.480289  0.804892  0.115178   \n",
      "20 C        2 atm    0       0.022336  0.775362  0.506447  0.529736  0.751712   \n",
      "                     1       0.877458  0.656000  0.263914  0.960558  0.157513   \n",
      "                     2       0.735113  0.171312  0.695630  0.312976  0.116324   \n",
      "                     3       0.702020  0.955387  0.056374  0.776194  0.107689   \n",
      "                     4       0.492920  0.463936  0.272022  0.843671  0.642845   \n",
      "30 C        3 atm    0       0.758074  0.859816  0.034887  0.220224  0.761996   \n",
      "                     1       0.692556  0.512766  0.495191  0.009304  0.776452   \n",
      "                     2       0.102342  0.015061  0.461675  0.536106  0.897900   \n",
      "                     3       0.358370  0.938277  0.435115  0.233780  0.625979   \n",
      "                     4       0.692596  0.237187  0.382335  0.373133  0.408269   \n",
      "\n",
      "                                    z  \n",
      "Temperature Pressure Sample            \n",
      "10 C        1 atm    0       0.455976  \n",
      "                     1       0.336004  \n",
      "                     2       0.562839  \n",
      "                     3       0.621792  \n",
      "                     4       0.422340  \n",
      "20 C        2 atm    0       0.109412  \n",
      "                     1       0.460058  \n",
      "                     2       0.717906  \n",
      "                     3       0.185128  \n",
      "                     4       0.713138  \n",
      "30 C        3 atm    0       0.466148  \n",
      "                     1       0.332971  \n",
      "                     2       0.516034  \n",
      "                     3       0.948112  \n",
      "                     4       0.675415  \n"
     ]
    }
   ],
   "source": [
    "# Prepare your block labels here\n",
    "\n",
    "# Labels that we know from somewhere else (could be saved and imported; depends on what you have)\n",
    "temperatures = [\"{} C\".format(t) for t in range(10, 50, 10)]\n",
    "pressures = [\"1 atm\", \"2 atm\", \"3 atm\"]\n",
    "# Tuples identifying each block\n",
    "labels = tuple([(temperatures[i], pressures[i]) for i in range(3)])\n",
    "axes_names = [\"Temperature\", \"Pressure\"]\n",
    "print(labels)\n",
    "# Observables\n",
    "obs_labels = ['vx', 'vy', 'vz'] + ['x', 'y', 'z']\n",
    "\n",
    "df = df_from_blocks(list_of_blocks, labels, obs_labels, axes_names)\n",
    "print(\"DataFrame created witht the df_from_blocks function: \")\n",
    "print(df)"
   ]
  },
  {
   "cell_type": "markdown",
   "metadata": {},
   "source": [
    "### With the df_from_ndarray method"
   ]
  },
  {
   "cell_type": "code",
   "execution_count": 7,
   "metadata": {},
   "outputs": [
    {
     "name": "stdout",
     "output_type": "stream",
     "text": [
      "DataFrame created with the df_from_ndarray function: \n",
      "Observables            vx   vy   vz    x    y    z\n",
      "Temperature Pressure                              \n",
      "10 C        0 atm       0    1    2    3    4    5\n",
      "            1 atm       6    7    8    9   10   11\n",
      "            2 atm      12   13   14   15   16   17\n",
      "            3 atm      18   19   20   21   22   23\n",
      "            4 atm      24   25   26   27   28   29\n",
      "20 C        0 atm      30   31   32   33   34   35\n",
      "            1 atm      36   37   38   39   40   41\n",
      "            2 atm      42   43   44   45   46   47\n",
      "            3 atm      48   49   50   51   52   53\n",
      "            4 atm      54   55   56   57   58   59\n",
      "30 C        0 atm      60   61   62   63   64   65\n",
      "            1 atm      66   67   68   69   70   71\n",
      "            2 atm      72   73   74   75   76   77\n",
      "            3 atm      78   79   80   81   82   83\n",
      "            4 atm      84   85   86   87   88   89\n",
      "40 C        0 atm      90   91   92   93   94   95\n",
      "            1 atm      96   97   98   99  100  101\n",
      "            2 atm     102  103  104  105  106  107\n",
      "            3 atm     108  109  110  111  112  113\n",
      "            4 atm     114  115  116  117  118  119\n"
     ]
    }
   ],
   "source": [
    "# Prepare your labels for each axis here\n",
    "\n",
    "# Dictionaries where keys are the axes, elements are axes names or parameter values at each index of the axis\n",
    "axes_names_dict = {0:\"Temperature\", 1:\"Pressure\"}\n",
    "param_labels = {\n",
    "    0: [\"10 C\", \"20 C\", \"30 C\", \"40 C\"],\n",
    "    1: [\"{} atm\".format(i) for i in range(5)]\n",
    "}\n",
    "# Observables\n",
    "obs_labels = ['vx', 'vy', 'vz'] + ['x', 'y', 'z']\n",
    "obs_axis = 2  # axis along which the observables are\n",
    "# Here, compared to the example with blocks, there is no \n",
    "# \"Sample\" axis created: only one sample per condition\n",
    "# If there are many samples for the same condition, \n",
    "# then one of the axes of the ndarray indexes the different samples\n",
    "\n",
    "df2 = df_from_ndarray(ndarr, param_labels, obs_axis, obs_labels, axes_names_dict)\n",
    "print(\"DataFrame created with the df_from_ndarray function: \")\n",
    "print(df2)"
   ]
  },
  {
   "cell_type": "markdown",
   "metadata": {},
   "source": [
    "## Adding extra indexing to your DataFrame\n",
    "You might want to regroup some observables or some conditions under the same label. The function regroup_levels serves that purpose. "
   ]
  },
  {
   "cell_type": "code",
   "execution_count": 8,
   "metadata": {},
   "outputs": [
    {
     "name": "stdout",
     "output_type": "stream",
     "text": [
      "Dimension                           X                   Y                   Z  \\\n",
      "Observables                        vx         x        vy         y        vz   \n",
      "Temperature Pressure Sample                                                     \n",
      "10 C        1 atm    0       0.713163  0.540529  0.814140  0.894961  0.773218   \n",
      "                     1       0.443060  0.483871  0.811989  0.551495  0.947800   \n",
      "                     2       0.780947  0.441669  0.135596  0.442373  0.900519   \n",
      "                     3       0.049410  0.607650  0.521471  0.313742  0.270749   \n",
      "                     4       0.971075  0.804892  0.750665  0.115178  0.480289   \n",
      "20 C        2 atm    0       0.022336  0.529736  0.775362  0.751712  0.506447   \n",
      "                     1       0.877458  0.960558  0.656000  0.157513  0.263914   \n",
      "                     2       0.735113  0.312976  0.171312  0.116324  0.695630   \n",
      "                     3       0.702020  0.776194  0.955387  0.107689  0.056374   \n",
      "                     4       0.492920  0.843671  0.463936  0.642845  0.272022   \n",
      "30 C        3 atm    0       0.758074  0.220224  0.859816  0.761996  0.034887   \n",
      "                     1       0.692556  0.009304  0.512766  0.776452  0.495191   \n",
      "                     2       0.102342  0.536106  0.015061  0.897900  0.461675   \n",
      "                     3       0.358370  0.233780  0.938277  0.625979  0.435115   \n",
      "                     4       0.692596  0.373133  0.237187  0.408269  0.382335   \n",
      "\n",
      "Dimension                              \n",
      "Observables                         z  \n",
      "Temperature Pressure Sample            \n",
      "10 C        1 atm    0       0.455976  \n",
      "                     1       0.336004  \n",
      "                     2       0.562839  \n",
      "                     3       0.621792  \n",
      "                     4       0.422340  \n",
      "20 C        2 atm    0       0.109412  \n",
      "                     1       0.460058  \n",
      "                     2       0.717906  \n",
      "                     3       0.185128  \n",
      "                     4       0.713138  \n",
      "30 C        3 atm    0       0.466148  \n",
      "                     1       0.332971  \n",
      "                     2       0.516034  \n",
      "                     3       0.948112  \n",
      "                     4       0.675415  \n",
      "Columns are now a MultiIndex:\n",
      "MultiIndex(levels=[['X', 'Y', 'Z'], ['vx', 'vy', 'vz', 'x', 'y', 'z']],\n",
      "           codes=[[0, 0, 1, 1, 2, 2], [0, 3, 1, 4, 2, 5]],\n",
      "           names=['Dimension', 'Observables']) \n",
      "\n",
      "Observables                   vx   vy   vz    x    y    z\n",
      "Effect Pressure Temperature                              \n",
      "burst  0 atm    10 C           0    1    2    3    4    5\n",
      "                20 C          30   31   32   33   34   35\n",
      "                30 C          60   61   62   63   64   65\n",
      "                40 C          90   91   92   93   94   95\n",
      "crush  3 atm    10 C          18   19   20   21   22   23\n",
      "                20 C          48   49   50   51   52   53\n",
      "                30 C          78   79   80   81   82   83\n",
      "                40 C         108  109  110  111  112  113\n",
      "       4 atm    10 C          24   25   26   27   28   29\n",
      "                20 C          54   55   56   57   58   59\n",
      "                30 C          84   85   86   87   88   89\n",
      "                40 C         114  115  116  117  118  119\n",
      "faint  2 atm    10 C          12   13   14   15   16   17\n",
      "                20 C          42   43   44   45   46   47\n",
      "                30 C          72   73   74   75   76   77\n",
      "                40 C         102  103  104  105  106  107\n",
      "fine   1 atm    10 C           6    7    8    9   10   11\n",
      "                20 C          36   37   38   39   40   41\n",
      "                30 C          66   67   68   69   70   71\n",
      "                40 C          96   97   98   99  100  101\n"
     ]
    }
   ],
   "source": [
    "# Regroup columns in the sample DataFrame made from blocks\n",
    "# Regrouping x, y, and z coordinates\n",
    "groups = {\n",
    "    \"X\":['x', 'vx'], \n",
    "    \"Y\":['y', 'vy'], \n",
    "    \"Z\":['z', 'vz']\n",
    "}\n",
    "regrouped_df = regroup_levels(df, groups, level_group=\"Observables\", axis=1, name=\"Dimension\")\n",
    "print(regrouped_df)\n",
    "print(\"Columns are now a MultiIndex:\")\n",
    "print(regrouped_df.columns, \"\\n\")\n",
    "\n",
    "\n",
    "# Regroup rows in the sample example made from a ndarray. \n",
    "# If an inner level is regrouped, it is moved to be second to outermost, \n",
    "# and rows are sorted with respect to it. \n",
    "# Regrouping pressures by effect on a human (not accurate)\n",
    "groups = {\n",
    "    \"burst\":['0 atm'],\n",
    "    \"fine\":[\"1 atm\"], \n",
    "    \"faint\":[\"2 atm\"], \n",
    "    \"crush\":['3 atm', '4 atm']\n",
    "}\n",
    "regrouped_df2 = regroup_levels(df2, groups, level_group=\"Pressure\", axis=0, name=\"Effect\")\n",
    "print(regrouped_df2)"
   ]
  },
  {
   "cell_type": "markdown",
   "metadata": {},
   "source": [
    "## Save the final dataframe\n",
    "Once you are done, save it! "
   ]
  },
  {
   "cell_type": "code",
   "execution_count": 9,
   "metadata": {},
   "outputs": [],
   "source": [
    "folder = \"data/\"\n",
    "save_object(regrouped_df, folder + \"gas_example_blocks_formatted.pkl\")\n",
    "save_object(regrouped_df2, folder + \"gas_example_ndarray_formatted.pkl\")"
   ]
  },
  {
   "cell_type": "markdown",
   "metadata": {},
   "source": [
    "## Appendix: Useful pandas methods and functions\n",
    "You will probably need to do some manipulations by yourself. Here are some useful pandas functions. \n",
    "\n",
    "(*Under construction*)\n",
    "\n",
    "### For DataFrames\n",
    "#### Creation, manipulation\n",
    "- DataFrame.\n",
    "- DataFrame.to_sparse(): creates a sparse version, saves memory if the same value is repeated often\n",
    "- DataFrame.to_dense(): creates the dense version. \n",
    "\n",
    "#### Indexing\n",
    "- DataFrame.reindex : to rearrange the order of the values (keeps values associated with their original label, but in a new order). Can be used on both axes. \n",
    "- DataFrame.set_index: to replace the index without changing the order of values\n",
    "    - See this explanation of the difference between reindex and set_index: https://stackoverflow.com/questions/50741330/difference-between-df-reindex-and-df-set-index-methods-in-pandas\n",
    "- DataFrame.reset_index: useful to remove one or more indexing level(s)\n",
    "\n",
    "\n",
    "### For MultiIndexes"
   ]
  },
  {
   "cell_type": "code",
   "execution_count": null,
   "metadata": {},
   "outputs": [],
   "source": []
  }
 ],
 "metadata": {
  "kernelspec": {
   "display_name": "Python 3",
   "language": "python",
   "name": "python3"
  },
  "language_info": {
   "codemirror_mode": {
    "name": "ipython",
    "version": 3
   },
   "file_extension": ".py",
   "mimetype": "text/x-python",
   "name": "python",
   "nbconvert_exporter": "python",
   "pygments_lexer": "ipython3",
   "version": "3.6.8"
  }
 },
 "nbformat": 4,
 "nbformat_minor": 2
}
