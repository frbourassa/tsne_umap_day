{
 "cells": [
  {
   "cell_type": "markdown",
   "metadata": {},
   "source": [
    "# Applying dimensional reduction techniques to data\n",
    "This notebook is intended to guide you through applying t-SNE and UMAP to the dataset of your choice, ideally formatted as indicated in the README (columns are observables, rows are sample points). \n",
    "\n",
    "\n",
    "## Requirements\n",
    "Because nothing comes without effort...\n",
    "\n",
    "#### General\n",
    "pandas >= 0.24.0, otherwise you might not be able to open DataFrames pickled by someone with a recent pandas version. \n",
    "\n",
    "In case you are having some problems with dependencies, it might be a good idea to:\n",
    "\n",
    "1. Create and activate a virtual environment, so the updates you might need to do will not mess up your research project's code.\n",
    "\n",
    "    1.1 If you don't know how to do this, see the explanation on that page (for conda): https://uoa-eresearch.github.io/eresearch-cookbook/recipe/2014/11/20/conda/ and https://docs.conda.io/projects/conda/en/latest/user-guide/tasks/manage-environments.html\n",
    "    \n",
    "    1.2 You will also need to configure the environment as a kernel for jupyter notebooks: https://anbasile.github.io/programming/2017/06/25/jupyter-venv/\n",
    "    \n",
    "    1.3 If you want to install a package only to the virtual environment, you need to specify it with the `-n` option:  `conda install -n yourenvname [package]`. \n",
    "    \n",
    "    1.4 However, the `conda update` command will update the package version in the current virtual environment; no need to specify it. \n",
    "    \n",
    "\n",
    "2. Run `conda update --all`: update all packages in the virtual environment, to be sure that you won't encounter dependency conflicts. \n",
    "\n",
    "#### t-SNE\n",
    "scikit-learn has a user-friendly but slow implementation of t-SNE. I preferred to use Multicore-TSNE, seemingly the fastest alternative available:\n",
    "\n",
    "https://github.com/DmitryUlyanov/Multicore-TSNE\n",
    "\n",
    "You will need to install it with `pip` (it is not available with `conda`):\n",
    "\n",
    "`pip install Multicore-TSNE`\n",
    "\n",
    "It will very probably not work, telling you that the package `cmake` was not found. Try to install it with `pip`:\n",
    "\n",
    "`pip install cmake` \n",
    "\n",
    "or with `conda`, if you prefer:\n",
    "\n",
    "`conda install cmake` \n",
    "\n",
    "Then, you should be able to install Multicore-TSNE; if not, try to solve the error messages that you receive.\n",
    "\n",
    "#### UMAP\n",
    "\n",
    "I think that the only trustworthy implementation is the original one. According to the documentation on Github, you can install via `conda`:\n",
    "\n",
    "`conda install -c conda-forge umap-learn`\n",
    "\n",
    "or `pip`:\n",
    "\n",
    "`pip install umap-learn` \n",
    "\n",
    "I have used the pip install, since the conda-forge one wanted to update some packages to versions currently in development (later versions that the regular conda ones). \n",
    "\n",
    "There are some dependencies that you may need to install/update: \n",
    "\n",
    "conda update numpy scipy\n",
    "conda update scikit-learn\n",
    "conda update numba\n",
    "\n",
    "## References for theory\n",
    "\n",
    "#### t-SNE\n",
    "t-SNE's original paper is quite straightforward to understand the algorithm (sections 2-3):\n",
    "\n",
    "Van Der Maaten L., and Hinton G. “Visualizing Data Using T-SNE.” *Journal of Machine Learning Research*, 9 (2008), 2579–2625.\n",
    "https://lvdmaaten.github.io/tsne/\n",
    "\n",
    "Fast implementations use the Barnes-Hut version of t-SNE. Barnes-Hut is essentially an algorithm to compute the gradient approximately and speed up the optimization procedure. \n",
    "\n",
    "#### UMAP\n",
    "The original paper is much more mathematically heavy than for t-SNE. \n",
    "\n",
    "McInnes, Leland, John Healy, and James Melville. “UMAP: Uniform Manifold Approximation and Projection for Dimension Reduction.” *ArXiv*:1802.03426 [Cs, Stat], February 9, 2018. http://arxiv.org/abs/1802.03426.\n",
    "https://github.com/lmcinnes/umap\n",
    "\n",
    "Section 2 presents the foundations of the technique in topology and category theory. Section 3 is more practical. \n",
    "\n",
    "\n",
    "<!--the central idea is to assume that all points are uniformly distributed on some manifold, \n",
    "% then find the Riemannian metric on that manifold which enforces that uniformity property. (not sure about that part yet)\n",
    "-->\n"
   ]
  },
  {
   "cell_type": "code",
   "execution_count": 1,
   "metadata": {},
   "outputs": [],
   "source": [
    "# Initial imports\n",
    "import numpy as np\n",
    "import pandas as pd\n",
    "import scipy as sp\n",
    "import os\n",
    "\n",
    "# Things you will probably need to install\n",
    "import MulticoreTSNE as tsne\n",
    "import umap\n",
    "\n",
    "# Modules from this project\n",
    "from format_tools import load_object, save_object\n",
    "from analyze_tools import list_available, load_chosen"
   ]
  },
  {
   "cell_type": "markdown",
   "metadata": {},
   "source": [
    "## Import your data\n",
    "Load any pickled DataFrame (or another data format if you feel daring, but there are no guarantees then). "
   ]
  },
  {
   "cell_type": "code",
   "execution_count": 2,
   "metadata": {},
   "outputs": [
    {
     "name": "stdout",
     "output_type": "stream",
     "text": [
      "The current working directory is  /Users/francoisb/code_repos/tsne_umap_day\n",
      "There are 2 available .pkl files in data: {\n",
      "\t0:\"gas_example_blocks_formatted.pkl\"\n",
      "\t1:\"gas_example_ndarray_formatted.pkl\"\n",
      "}\n",
      "Now, select your file in the cell below\n"
     ]
    }
   ],
   "source": [
    "# Select the folder containing your data files\n",
    "folder = \"data\"\n",
    "\n",
    "# Filter files in the folder by applying the following function on each found file name. \n",
    "# Here, we only keep pickle files\n",
    "condition = lambda x: x.endswith(\".pkl\")\n",
    "\n",
    "# Get all files in the chosen folder; store them in a dictionary for easy access\n",
    "available_files = list_available(folder, condition)"
   ]
  },
  {
   "cell_type": "code",
   "execution_count": 3,
   "metadata": {},
   "outputs": [
    {
     "name": "stdout",
     "output_type": "stream",
     "text": [
      "Will try to import:\n",
      "data/gas_example_blocks_formatted.pkl\n",
      "\n",
      "Succesfully loaded the following object: \n",
      "\n",
      "Dimension                           X                   Y                   Z  \\\n",
      "Observables                        vx         x        vy         y        vz   \n",
      "Temperature Pressure Sample                                                     \n",
      "10 C        1 atm    0       0.713163  0.540529  0.814140  0.894961  0.773218   \n",
      "                     1       0.443060  0.483871  0.811989  0.551495  0.947800   \n",
      "                     2       0.780947  0.441669  0.135596  0.442373  0.900519   \n",
      "                     3       0.049410  0.607650  0.521471  0.313742  0.270749   \n",
      "                     4       0.971075  0.804892  0.750665  0.115178  0.480289   \n",
      "20 C        2 atm    0       0.022336  0.529736  0.775362  0.751712  0.506447   \n",
      "                     1       0.877458  0.960558  0.656000  0.157513  0.263914   \n",
      "                     2       0.735113  0.312976  0.171312  0.116324  0.695630   \n",
      "                     3       0.702020  0.776194  0.955387  0.107689  0.056374   \n",
      "                     4       0.492920  0.843671  0.463936  0.642845  0.272022   \n",
      "30 C        3 atm    0       0.758074  0.220224  0.859816  0.761996  0.034887   \n",
      "                     1       0.692556  0.009304  0.512766  0.776452  0.495191   \n",
      "                     2       0.102342  0.536106  0.015061  0.897900  0.461675   \n",
      "                     3       0.358370  0.233780  0.938277  0.625979  0.435115   \n",
      "                     4       0.692596  0.373133  0.237187  0.408269  0.382335   \n",
      "\n",
      "Dimension                              \n",
      "Observables                         z  \n",
      "Temperature Pressure Sample            \n",
      "10 C        1 atm    0       0.455976  \n",
      "                     1       0.336004  \n",
      "                     2       0.562839  \n",
      "                     3       0.621792  \n",
      "                     4       0.422340  \n",
      "20 C        2 atm    0       0.109412  \n",
      "                     1       0.460058  \n",
      "                     2       0.717906  \n",
      "                     3       0.185128  \n",
      "                     4       0.713138  \n",
      "30 C        3 atm    0       0.466148  \n",
      "                     1       0.332971  \n",
      "                     2       0.516034  \n",
      "                     3       0.948112  \n",
      "                     4       0.675415  \n"
     ]
    }
   ],
   "source": [
    "# Choose the file in the dictionary above\n",
    "file_chosen_index = 0\n",
    "\n",
    "# Load the object, which should be a DataFrame in this context\n",
    "df = load_chosen(file_chosen_index, folder, available_files)"
   ]
  },
  {
   "cell_type": "markdown",
   "metadata": {},
   "source": [
    "## Apply t-SNE on the loaded data\n",
    "Skip this section if you prefer UMAP. "
   ]
  },
  {
   "cell_type": "code",
   "execution_count": null,
   "metadata": {},
   "outputs": [],
   "source": []
  },
  {
   "cell_type": "markdown",
   "metadata": {},
   "source": [
    "## Apply UMAP on the loaded data"
   ]
  },
  {
   "cell_type": "code",
   "execution_count": null,
   "metadata": {},
   "outputs": [],
   "source": []
  }
 ],
 "metadata": {
  "kernelspec": {
   "display_name": "Python 3",
   "language": "python",
   "name": "python3"
  },
  "language_info": {
   "codemirror_mode": {
    "name": "ipython",
    "version": 3
   },
   "file_extension": ".py",
   "mimetype": "text/x-python",
   "name": "python",
   "nbconvert_exporter": "python",
   "pygments_lexer": "ipython3",
   "version": "3.6.8"
  }
 },
 "nbformat": 4,
 "nbformat_minor": 2
}
