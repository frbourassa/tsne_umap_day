{
 "cells": [
  {
   "cell_type": "markdown",
   "metadata": {},
   "source": [
    "# Applying dimensional reduction techniques to data\n",
    "This notebook is intended to guide you through applying t-SNE and UMAP to the dataset of your choice, ideally formatted as indicated in the README (columns are observables, rows are sample points). \n",
    "\n",
    "\n",
    "## Requirements\n",
    "Because nothing comes without effort...\n",
    "\n",
    "#### General\n",
    "pandas >= 0.24.0, otherwise you might not be able to open DataFrames pickled by someone with a recent pandas version. \n",
    "\n",
    "In case you are having some problems with dependencies, it might be a good idea to:\n",
    "\n",
    "1. Create and activate a virtual environment, so the updates you might need to do will not mess up your research project's code.\n",
    "\n",
    "    1.1 If you don't know how to do this, see the explanation on that page (for conda): https://uoa-eresearch.github.io/eresearch-cookbook/recipe/2014/11/20/conda/ and https://docs.conda.io/projects/conda/en/latest/user-guide/tasks/manage-environments.html\n",
    "    \n",
    "    1.2 You will also need to configure the environment as a kernel for jupyter notebooks: https://anbasile.github.io/programming/2017/06/25/jupyter-venv/\n",
    "    \n",
    "    1.3 If you want to install a package only to the virtual environment, you need to specify it with the `-n` option:  `conda install -n yourenvname [package]`. \n",
    "    \n",
    "    1.4 However, the `conda update` command will update the package version in the current virtual environment; no need to specify it. \n",
    "    \n",
    "\n",
    "2. Run `conda update --all`: update all packages in the virtual environment, to be sure that you won't encounter dependency conflicts. \n",
    "\n",
    "#### t-SNE\n",
    "scikit-learn has a user-friendly but slow implementation of t-SNE. I preferred to use Multicore-TSNE, which has the same interface as scikit-learn's version, but is seemingly the fastest implementation available:\n",
    "\n",
    "https://github.com/DmitryUlyanov/Multicore-TSNE\n",
    "\n",
    "You will need to install it with `pip` (it is not available with `conda`):\n",
    "\n",
    "`pip install Multicore-TSNE`\n",
    "\n",
    "It will very probably not work, telling you that the package `cmake` was not found. Try to install it with `pip`:\n",
    "\n",
    "`pip install cmake` \n",
    "\n",
    "or with `conda`, if you prefer:\n",
    "\n",
    "`conda install cmake` \n",
    "\n",
    "Then, you should be able to install Multicore-TSNE; if not, try to solve the error messages that you receive.\n",
    "\n",
    "The commands are supposed to be the same as scikit-learn's TSNE. One downside of that implementation is that it can only produce 2D projections. \n",
    "\n",
    "#### UMAP\n",
    "\n",
    "I think that the only trustworthy implementation is the original one. According to the documentation on Github, you can install via `conda`:\n",
    "\n",
    "`conda install -c conda-forge umap-learn`\n",
    "\n",
    "or `pip`:\n",
    "\n",
    "`pip install umap-learn` \n",
    "\n",
    "I have used the pip install, since the conda-forge one wanted to update some packages to versions currently in development (later versions that the regular conda ones). \n",
    "\n",
    "There are some dependencies that you may need to install/update: \n",
    "\n",
    "conda update numpy scipy\n",
    "conda update scikit-learn\n",
    "conda update numba\n",
    "\n",
    "## References for theory\n",
    "\n",
    "#### t-SNE\n",
    "t-SNE's original paper is quite straightforward to understand the algorithm (sections 2-3):\n",
    "\n",
    "Van Der Maaten L., and Hinton G. “Visualizing Data Using T-SNE.” *Journal of Machine Learning Research*, 9 (2008), 2579–2625.\n",
    "https://lvdmaaten.github.io/tsne/\n",
    "\n",
    "Fast implementations use the Barnes-Hut version of t-SNE. Barnes-Hut is essentially an algorithm to compute the gradient approximately and speed up the optimization procedure. \n",
    "\n",
    "Documentation of the main function is the same as for the scikit-learn implementation: https://scikit-learn.org/stable/modules/generated/sklearn.manifold.TSNE.html, except that n_component is fixed to be 2. \n",
    "\n",
    "#### UMAP\n",
    "The original paper is much more mathematically heavy than for t-SNE. \n",
    "\n",
    "McInnes, Leland, John Healy, and James Melville. “UMAP: Uniform Manifold Approximation and Projection for Dimension Reduction.” *ArXiv*:1802.03426 [Cs, Stat], February 9, 2018. http://arxiv.org/abs/1802.03426.\n",
    "https://github.com/lmcinnes/umap\n",
    "\n",
    "Section 2 presents the foundations of the technique in topology and category theory. Section 3 is more practical. \n",
    "\n",
    "\n",
    "<!--the central idea is to assume that all points are uniformly distributed on some manifold, \n",
    "% then find the Riemannian metric on that manifold which enforces that uniformity property. (not sure about that part yet)\n",
    "-->\n",
    "\n",
    "Documentation of the package: https://umap-learn.readthedocs.io/en/latest/parameters.html\n"
   ]
  },
  {
   "cell_type": "code",
   "execution_count": 1,
   "metadata": {},
   "outputs": [],
   "source": [
    "# Initial imports\n",
    "import numpy as np\n",
    "import pandas as pd\n",
    "import scipy as sp\n",
    "import os\n",
    "from multiprocessing import cpu_count\n",
    "from matplotlib import pyplot as plt\n",
    "\n",
    "# Things you will probably need to install\n",
    "from MulticoreTSNE import MulticoreTSNE as tsne\n",
    "from umap import UMAP\n",
    "\n",
    "# Modules from this project\n",
    "from format_tools import load_object, save_object\n",
    "from analyze_tools import list_available, load_chosen"
   ]
  },
  {
   "cell_type": "code",
   "execution_count": 2,
   "metadata": {},
   "outputs": [],
   "source": [
    "# Plot parameters, so graphs look nicer\n",
    "plt.rcParams[\"figure.figsize\"] = 8, 6\n",
    "plt.rcParams[\"lines.linewidth\"] = 3.\n",
    "plt.rcParams[\"font.size\"] = 14.\n",
    "plt.rcParams[\"axes.labelsize\"] = 16.\n",
    "plt.rcParams[\"legend.fontsize\"] = 14.\n",
    "plt.rcParams[\"xtick.labelsize\"] = 14.\n",
    "plt.rcParams[\"ytick.labelsize\"] = 14.\n"
   ]
  },
  {
   "cell_type": "markdown",
   "metadata": {},
   "source": [
    "## Import your data\n",
    "Load any pickled DataFrame (or another data format if you feel daring, but there are no guarantees then). "
   ]
  },
  {
   "cell_type": "code",
   "execution_count": 3,
   "metadata": {},
   "outputs": [
    {
     "name": "stdout",
     "output_type": "stream",
     "text": [
      "The current working directory is  /Users/francoisb/code_repos/tsne_umap_day\n",
      "There are 2 available .pkl files in data: {\n",
      "\t0:\"gas_example_blocks_formatted.pkl\"\n",
      "\t1:\"gas_example_ndarray_formatted.pkl\"\n",
      "}\n",
      "Now, select your file in the cell below\n"
     ]
    }
   ],
   "source": [
    "# Select the folder containing your data files\n",
    "folder = \"data\"\n",
    "\n",
    "# Filter files in the folder by applying the following function on each found file name. \n",
    "# Here, we only keep pickle files\n",
    "condition = lambda x: x.endswith(\".pkl\")\n",
    "\n",
    "# Get all files in the chosen folder; store them in a dictionary for easy access\n",
    "available_files = list_available(folder, condition)"
   ]
  },
  {
   "cell_type": "code",
   "execution_count": 4,
   "metadata": {},
   "outputs": [
    {
     "name": "stdout",
     "output_type": "stream",
     "text": [
      "Will try to import:\n",
      "data/gas_example_ndarray_formatted.pkl\n",
      "\n",
      "Succesfully loaded the following object: \n",
      "\n",
      "Observables                   vx   vy   vz    x    y    z\n",
      "Effect Pressure Temperature                              \n",
      "burst  0 atm    10 C           0    1    2    3    4    5\n",
      "                20 C          30   31   32   33   34   35\n",
      "                30 C          60   61   62   63   64   65\n",
      "                40 C          90   91   92   93   94   95\n",
      "crush  3 atm    10 C          18   19   20   21   22   23\n",
      "                20 C          48   49   50   51   52   53\n",
      "                30 C          78   79   80   81   82   83\n",
      "                40 C         108  109  110  111  112  113\n",
      "       4 atm    10 C          24   25   26   27   28   29\n",
      "                20 C          54   55   56   57   58   59\n",
      "                30 C          84   85   86   87   88   89\n",
      "                40 C         114  115  116  117  118  119\n",
      "faint  2 atm    10 C          12   13   14   15   16   17\n",
      "                20 C          42   43   44   45   46   47\n",
      "                30 C          72   73   74   75   76   77\n",
      "                40 C         102  103  104  105  106  107\n",
      "fine   1 atm    10 C           6    7    8    9   10   11\n",
      "                20 C          36   37   38   39   40   41\n",
      "                30 C          66   67   68   69   70   71\n",
      "                40 C          96   97   98   99  100  101\n"
     ]
    }
   ],
   "source": [
    "# Choose the file in the dictionary above\n",
    "file_chosen_index = 1\n",
    "\n",
    "# Load the object, which should be a DataFrame in this context\n",
    "df = load_chosen(file_chosen_index, folder, available_files)"
   ]
  },
  {
   "cell_type": "markdown",
   "metadata": {},
   "source": [
    "## Apply t-SNE on the loaded data\n",
    "Skip this section if you prefer UMAP. "
   ]
  },
  {
   "cell_type": "code",
   "execution_count": 12,
   "metadata": {},
   "outputs": [
    {
     "name": "stdout",
     "output_type": "stream",
     "text": [
      "(20, 2)\n"
     ]
    }
   ],
   "source": [
    "# Create an instance of a t-SNE processor.  Choose a seed for reproducibility\n",
    "seed = 9901847\n",
    "number_cpus = cpu_count()  # change this if you don't want to use all your CPUs\n",
    "\n",
    "# Make sure the DataFrame is dense\n",
    "df = df.to_dense()\n",
    "\n",
    "# Hyperparameters for t-SNE (here, default sklearn values are used)\n",
    "projector_tsne = tsne(n_jobs=number_cpus, random_state=seed, \n",
    "    perplexity=30, # controls number of nearest-neighbors, use value between 5 and 50\n",
    "    early_exaggeration=12.0,  # For larger values, the space between natural clusters will be larger in the embedded space.\n",
    "    learning_rate=200.0,  # too high or too low: all datapoints will be bunched together.\n",
    ")\n",
    "\n",
    "y = projector_tsne.fit_transform(df.values)\n",
    "print(y.shape)"
   ]
  },
  {
   "cell_type": "code",
   "execution_count": 13,
   "metadata": {},
   "outputs": [
    {
     "data": {
      "image/png": "[encoded data removed]",
      "text/plain": [
       "<Figure size 576x432 with 1 Axes>"
      ]
     },
     "metadata": {
      "needs_background": "light"
     },
     "output_type": "display_data"
    }
   ],
   "source": [
    "# Plot the resulting projection\n",
    "fig, ax = plt.subplots()\n",
    "\n",
    "ax.scatter(y[:, 0], y[:, 1])\n",
    "ax.set_xlabel(r\"$y_1$\")\n",
    "ax.set_ylabel(r\"$y_2$\")\n",
    "\n",
    "plt.show()"
   ]
  },
  {
   "cell_type": "markdown",
   "metadata": {},
   "source": [
    "## Apply UMAP on the loaded data"
   ]
  },
  {
   "cell_type": "code",
   "execution_count": 15,
   "metadata": {},
   "outputs": [
    {
     "name": "stdout",
     "output_type": "stream",
     "text": [
      "(20, 2)\n"
     ]
    }
   ],
   "source": [
    "# Create an instance of a UMAP processor. Choose a seed for reproducibility. \n",
    "seed = 9901847\n",
    "\n",
    "# Make sure the DataFrame is dense\n",
    "df = df.to_dense()\n",
    "\n",
    "# Hyperparameters for UMAP (here, default values)\n",
    "projector_umap = UMAP(random_state=seed, \n",
    "    n_neighbors=15,  # balances local (low n_neighbors) vs global structure (high)\n",
    "    min_dist=0.1,  # minimum distance apart that points are allowed to be in the representation. Use between 0 and 1\n",
    "    n_components=2,  # Number of final dimensions\n",
    "    metric=\"euclidean\"  # how distance is computed in the ambient space of the input data\n",
    ")\n",
    "# Many choices for metric, see the documentation: https://umap-learn.readthedocs.io/en/latest/parameters.html\n",
    "\n",
    "y = projector_umap.fit_transform(df.values)\n",
    "print(y.shape)"
   ]
  },
  {
   "cell_type": "code",
   "execution_count": 16,
   "metadata": {},
   "outputs": [
    {
     "data": {
      "image/png": "[encoded data removed]",
      "text/plain": [
       "<Figure size 576x432 with 1 Axes>"
      ]
     },
     "metadata": {
      "needs_background": "light"
     },
     "output_type": "display_data"
    }
   ],
   "source": [
    "# Plot the resulting projection\n",
    "fig, ax = plt.subplots()\n",
    "\n",
    "ax.scatter(y[:, 0], y[:, 1])\n",
    "ax.set_xlabel(r\"$y_1$\")\n",
    "ax.set_ylabel(r\"$y_2$\")\n",
    "\n",
    "plt.show()"
   ]
  },
  {
   "cell_type": "code",
   "execution_count": null,
   "metadata": {},
   "outputs": [],
   "source": []
  }
 ],
 "metadata": {
  "kernelspec": {
   "display_name": "Python 3",
   "language": "python",
   "name": "python3"
  },
  "language_info": {
   "codemirror_mode": {
    "name": "ipython",
    "version": 3
   },
   "file_extension": ".py",
   "mimetype": "text/x-python",
   "name": "python",
   "nbconvert_exporter": "python",
   "pygments_lexer": "ipython3",
   "version": "3.6.8"
  }
 },
 "nbformat": 4,
 "nbformat_minor": 2
}
